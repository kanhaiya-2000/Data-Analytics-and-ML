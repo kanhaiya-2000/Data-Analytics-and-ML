{
 "cells": [
  {
   "cell_type": "code",
   "execution_count": 1,
   "metadata": {},
   "outputs": [],
   "source": [
    "import nltk\n",
    "# nltk.download('punkt')\n",
    "# nltk.download('averaged_perceptron_tagger')\n",
    "import random\n",
    "import pickle\n",
    "from statistics import mode\n",
    "from nltk.classify import ClassifierI\n",
    "from nltk.tokenize import word_tokenize\n",
    "from nltk.classify.scikitlearn import SklearnClassifier\n",
    "from sklearn.naive_bayes import MultinomialNB, BernoulliNB\n",
    "from sklearn.linear_model import LogisticRegression, SGDClassifier\n",
    "from sklearn.svm import LinearSVC"
   ]
  },
  {
   "cell_type": "code",
   "execution_count": 2,
   "metadata": {},
   "outputs": [],
   "source": [
    "class VotedClassifier(ClassifierI):\n",
    "    def __init__(self, *classifiers):\n",
    "        self._classifiers = classifiers\n",
    "\n",
    "    def classify(self, features):\n",
    "        votes = []\n",
    "        for classifier in self._classifiers:\n",
    "            v = classifier.classify(features)\n",
    "            votes.append(v)\n",
    "        return mode(votes)\n",
    "\n",
    "    def confidence(self, features):\n",
    "        votes = []\n",
    "        for classifier in self._classifiers:\n",
    "            v = classifier.classify(features)\n",
    "            votes.append(v)\n",
    "        majority = votes.count(mode(votes))\n",
    "        return majority/len(votes)"
   ]
  },
  {
   "cell_type": "code",
   "execution_count": 3,
   "metadata": {},
   "outputs": [],
   "source": [
    "positive = open('positive.txt', 'r').read()\n",
    "negative = open('negative.txt', 'r').read()\n",
    "\n",
    "documents = []\n",
    "all_words = []\n",
    "allowed_word_types = ['J']\n",
    "\n",
    "for r in positive.split('\\n'):\n",
    "    documents.append((r, 'pos'))\n",
    "    words = word_tokenize(r)\n",
    "    pos = nltk.pos_tag(words)\n",
    "    for w in pos:\n",
    "        if w[1][0] in allowed_word_types:\n",
    "            all_words.append(w[0].lower())\n",
    "            \n",
    "for r in negative.split('\\n'):\n",
    "    documents.append((r, 'neg'))\n",
    "    words = word_tokenize(r)\n",
    "    pos = nltk.pos_tag(words)\n",
    "    for w in pos:\n",
    "        if w[1][0] in allowed_word_types:\n",
    "            all_words.append(w[0].lower())"
   ]
  },
  {
   "cell_type": "code",
   "execution_count": 4,
   "metadata": {},
   "outputs": [],
   "source": [
    "all_words = nltk.FreqDist(all_words)\n",
    "\n",
    "word_features = list(all_words.keys())[:5000]\n",
    "\n",
    "def find_features(document):\n",
    "    words = word_tokenize(document)\n",
    "    features = {}\n",
    "    for w in word_features:\n",
    "        features[w] = (w in words)\n",
    "    return features\n",
    "\n",
    "feature_sets = [(find_features(review), category) for (review, category) in documents]\n",
    "random.shuffle(feature_sets)\n",
    "\n",
    "train_set = feature_sets[10000:]\n",
    "test_set = feature_sets[:10000]"
   ]
  },
  {
   "cell_type": "code",
   "execution_count": 5,
   "metadata": {},
   "outputs": [],
   "source": [
    "# positive = open('positive.txt', 'r').read()\n",
    "# negative = open('negative.txt', 'r').read()\n",
    "\n",
    "# documents = []\n",
    "# for review in positive.split('\\n'):\n",
    "#     documents.append((review, 'pos'))\n",
    "\n",
    "# for review in negative.split('\\n'):\n",
    "#     documents.append((review, 'neg'))\n",
    "\n",
    "# all_words = []\n",
    "# positive_words = word_tokenize(positive)\n",
    "# negative_words = word_tokenize(negative)\n",
    "\n",
    "# for word in positive_words:\n",
    "#     all_words.append(word.lower())\n",
    "\n",
    "# for word in negative_words:\n",
    "#     all_words.append(word.lower())\n",
    "\n",
    "# all_words = nltk.FreqDist(all_words)"
   ]
  },
  {
   "cell_type": "code",
   "execution_count": 6,
   "metadata": {},
   "outputs": [],
   "source": [
    "# word_features = list(all_words.keys())[:5000]\n",
    "\n",
    "# def find_features(document):\n",
    "#     words = word_tokenize(document)\n",
    "#     features = {}\n",
    "#     for w in word_features:\n",
    "#         features[w] = (w in words)\n",
    "#     return features\n",
    "\n",
    "# feature_sets = [(find_features(review), category) for (review, category) in documents]\n",
    "# random.shuffle(feature_sets)\n",
    "\n",
    "# train_set = feature_sets[10000:]\n",
    "# test_set = feature_sets[:10000]"
   ]
  },
  {
   "cell_type": "code",
   "execution_count": 7,
   "metadata": {},
   "outputs": [
    {
     "name": "stdout",
     "output_type": "stream",
     "text": [
      "Original Naive Bayes Accuracy: 62.12\n"
     ]
    }
   ],
   "source": [
    "classifier = nltk.NaiveBayesClassifier.train(train_set)\n",
    "print(f\"Original Naive Bayes Accuracy: {nltk.classify.accuracy(classifier, test_set)*100}\")"
   ]
  },
  {
   "cell_type": "code",
   "execution_count": 8,
   "metadata": {},
   "outputs": [
    {
     "name": "stdout",
     "output_type": "stream",
     "text": [
      "Multinomial Naive Bayes Accuracy: 62.08\n"
     ]
    }
   ],
   "source": [
    "mnb_classifier = SklearnClassifier(MultinomialNB())\n",
    "mnb_classifier.train(train_set)\n",
    "print(f\"Multinomial Naive Bayes Accuracy: {nltk.classify.accuracy(mnb_classifier, test_set)*100}\")"
   ]
  },
  {
   "cell_type": "code",
   "execution_count": 9,
   "metadata": {},
   "outputs": [
    {
     "name": "stdout",
     "output_type": "stream",
     "text": [
      "Bernoulli Naive Bayes Accuracy: 58.39\n"
     ]
    }
   ],
   "source": [
    "bnb_classifier = SklearnClassifier(BernoulliNB())\n",
    "bnb_classifier.train(train_set)\n",
    "print(f\"Bernoulli Naive Bayes Accuracy: {nltk.classify.accuracy(bnb_classifier, test_set)*100}\")"
   ]
  },
  {
   "cell_type": "code",
   "execution_count": 10,
   "metadata": {},
   "outputs": [
    {
     "name": "stdout",
     "output_type": "stream",
     "text": [
      "Logistic Regression Accuracy: 61.870000000000005\n"
     ]
    }
   ],
   "source": [
    "lr_classifier = SklearnClassifier(LogisticRegression())\n",
    "lr_classifier.train(train_set)\n",
    "print(f\"Logistic Regression Accuracy: {nltk.classify.accuracy(lr_classifier, test_set)*100}\")"
   ]
  },
  {
   "cell_type": "code",
   "execution_count": 11,
   "metadata": {},
   "outputs": [
    {
     "name": "stdout",
     "output_type": "stream",
     "text": [
      "SGD Classifier Accuracy: 59.01\n"
     ]
    }
   ],
   "source": [
    "sgd_classifier = SklearnClassifier(SGDClassifier())\n",
    "sgd_classifier.train(train_set)\n",
    "print(f\"SGD Classifier Accuracy: {nltk.classify.accuracy(sgd_classifier, test_set)*100}\")"
   ]
  },
  {
   "cell_type": "code",
   "execution_count": 12,
   "metadata": {},
   "outputs": [
    {
     "name": "stdout",
     "output_type": "stream",
     "text": [
      "Linear SVC Accuracy: 59.93000000000001\n"
     ]
    }
   ],
   "source": [
    "svm_classifier = SklearnClassifier(LinearSVC())\n",
    "svm_classifier.train(train_set)\n",
    "print(f\"Linear SVC Accuracy: {nltk.classify.accuracy(svm_classifier, test_set)*100}\")"
   ]
  },
  {
   "cell_type": "code",
   "execution_count": 13,
   "metadata": {},
   "outputs": [
    {
     "name": "stdout",
     "output_type": "stream",
     "text": [
      "Voted Classifier Accuracy: 61.809999999999995\n"
     ]
    }
   ],
   "source": [
    "voted_classifier = VotedClassifier(classifier,\n",
    "                                   mnb_classifier,\n",
    "                                   bnb_classifier,\n",
    "                                   lr_classifier,\n",
    "                                   svm_classifier)\n",
    "\n",
    "print(f\"Voted Classifier Accuracy: {nltk.classify.accuracy(voted_classifier, test_set)*100}\")"
   ]
  },
  {
   "cell_type": "code",
   "execution_count": 14,
   "metadata": {},
   "outputs": [],
   "source": [
    "save_docs = open('documents.pickle', 'wb')\n",
    "pickle.dump(documents, save_docs)\n",
    "save_docs.close()"
   ]
  },
  {
   "cell_type": "code",
   "execution_count": 15,
   "metadata": {},
   "outputs": [],
   "source": [
    "save_features = open('features.pickle', 'wb')\n",
    "pickle.dump(word_features, save_features)\n",
    "save_features.close()"
   ]
  },
  {
   "cell_type": "code",
   "execution_count": 16,
   "metadata": {},
   "outputs": [],
   "source": [
    "save_features = open('feature_sets.pickle', 'wb')\n",
    "pickle.dump(feature_sets, save_features)\n",
    "save_features.close()"
   ]
  },
  {
   "cell_type": "code",
   "execution_count": 17,
   "metadata": {},
   "outputs": [],
   "source": [
    "save_classifier = open('original_nb.pickle', 'wb')\n",
    "pickle.dump(classifier, save_classifier)\n",
    "save_classifier.close()"
   ]
  },
  {
   "cell_type": "code",
   "execution_count": 18,
   "metadata": {},
   "outputs": [],
   "source": [
    "save_classifier = open('mnb_classifier.pickle', 'wb')\n",
    "pickle.dump(mnb_classifier, save_classifier)\n",
    "save_classifier.close()"
   ]
  },
  {
   "cell_type": "code",
   "execution_count": 19,
   "metadata": {},
   "outputs": [],
   "source": [
    "save_classifier = open('bnb_classifier.pickle', 'wb')\n",
    "pickle.dump(bnb_classifier, save_classifier)\n",
    "save_classifier.close()"
   ]
  },
  {
   "cell_type": "code",
   "execution_count": 20,
   "metadata": {},
   "outputs": [],
   "source": [
    "save_classifier = open('lr_classifier.pickle', 'wb')\n",
    "pickle.dump(lr_classifier, save_classifier)\n",
    "save_classifier.close()"
   ]
  },
  {
   "cell_type": "code",
   "execution_count": 21,
   "metadata": {},
   "outputs": [],
   "source": [
    "save_classifier = open('sgd_classifier.pickle', 'wb')\n",
    "pickle.dump(sgd_classifier, save_classifier)\n",
    "save_classifier.close()"
   ]
  },
  {
   "cell_type": "code",
   "execution_count": 22,
   "metadata": {},
   "outputs": [],
   "source": [
    "save_classifier = open('svm_classifier.pickle', 'wb')\n",
    "pickle.dump(svm_classifier, save_classifier)\n",
    "save_classifier.close()"
   ]
  }
 ],
 "metadata": {
  "kernelspec": {
   "display_name": "Python 3",
   "language": "python",
   "name": "python3"
  },
  "language_info": {
   "codemirror_mode": {
    "name": "ipython",
    "version": 3
   },
   "file_extension": ".py",
   "mimetype": "text/x-python",
   "name": "python",
   "nbconvert_exporter": "python",
   "pygments_lexer": "ipython3",
   "version": "3.7.6"
  }
 },
 "nbformat": 4,
 "nbformat_minor": 4
}
