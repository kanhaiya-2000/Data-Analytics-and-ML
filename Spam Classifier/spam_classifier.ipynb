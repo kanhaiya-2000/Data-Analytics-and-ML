{
 "cells": [
  {
   "cell_type": "code",
   "execution_count": 1,
   "metadata": {},
   "outputs": [
    {
     "name": "stderr",
     "output_type": "stream",
     "text": [
      "[nltk_data] Downloading package stopwords to\n",
      "[nltk_data]     C:\\Users\\shiva\\AppData\\Roaming\\nltk_data...\n",
      "[nltk_data]   Package stopwords is already up-to-date!\n",
      "[nltk_data] Downloading package wordnet to\n",
      "[nltk_data]     C:\\Users\\shiva\\AppData\\Roaming\\nltk_data...\n",
      "[nltk_data]   Package wordnet is already up-to-date!\n"
     ]
    }
   ],
   "source": [
    "import re\n",
    "import nltk\n",
    "import pandas as pd\n",
    "from nltk.stem import PorterStemmer\n",
    "from nltk.corpus import stopwords\n",
    "nltk.download('stopwords')\n",
    "from nltk.stem import WordNetLemmatizer\n",
    "nltk.download('wordnet')\n",
    "from sklearn.feature_extraction.text import CountVectorizer\n",
    "from sklearn.feature_extraction.text import TfidfVectorizer\n",
    "from sklearn.model_selection import train_test_split\n",
    "from sklearn.naive_bayes import MultinomialNB\n",
    "from sklearn.metrics import confusion_matrix, accuracy_score"
   ]
  },
  {
   "cell_type": "markdown",
   "metadata": {},
   "source": [
    "### Load Data"
   ]
  },
  {
   "cell_type": "code",
   "execution_count": 2,
   "metadata": {},
   "outputs": [],
   "source": [
    "df = pd.read_csv('SMSSpamCollection', sep = '\\t', names = ['label', 'message'])"
   ]
  },
  {
   "cell_type": "code",
   "execution_count": 3,
   "metadata": {},
   "outputs": [
    {
     "data": {
      "text/html": [
       "<div>\n",
       "<style scoped>\n",
       "    .dataframe tbody tr th:only-of-type {\n",
       "        vertical-align: middle;\n",
       "    }\n",
       "\n",
       "    .dataframe tbody tr th {\n",
       "        vertical-align: top;\n",
       "    }\n",
       "\n",
       "    .dataframe thead th {\n",
       "        text-align: right;\n",
       "    }\n",
       "</style>\n",
       "<table border=\"1\" class=\"dataframe\">\n",
       "  <thead>\n",
       "    <tr style=\"text-align: right;\">\n",
       "      <th></th>\n",
       "      <th>label</th>\n",
       "      <th>message</th>\n",
       "    </tr>\n",
       "  </thead>\n",
       "  <tbody>\n",
       "    <tr>\n",
       "      <th>0</th>\n",
       "      <td>ham</td>\n",
       "      <td>Go until jurong point, crazy.. Available only ...</td>\n",
       "    </tr>\n",
       "    <tr>\n",
       "      <th>1</th>\n",
       "      <td>ham</td>\n",
       "      <td>Ok lar... Joking wif u oni...</td>\n",
       "    </tr>\n",
       "    <tr>\n",
       "      <th>2</th>\n",
       "      <td>spam</td>\n",
       "      <td>Free entry in 2 a wkly comp to win FA Cup fina...</td>\n",
       "    </tr>\n",
       "    <tr>\n",
       "      <th>3</th>\n",
       "      <td>ham</td>\n",
       "      <td>U dun say so early hor... U c already then say...</td>\n",
       "    </tr>\n",
       "    <tr>\n",
       "      <th>4</th>\n",
       "      <td>ham</td>\n",
       "      <td>Nah I don't think he goes to usf, he lives aro...</td>\n",
       "    </tr>\n",
       "  </tbody>\n",
       "</table>\n",
       "</div>"
      ],
      "text/plain": [
       "  label                                            message\n",
       "0   ham  Go until jurong point, crazy.. Available only ...\n",
       "1   ham                      Ok lar... Joking wif u oni...\n",
       "2  spam  Free entry in 2 a wkly comp to win FA Cup fina...\n",
       "3   ham  U dun say so early hor... U c already then say...\n",
       "4   ham  Nah I don't think he goes to usf, he lives aro..."
      ]
     },
     "execution_count": 3,
     "metadata": {},
     "output_type": "execute_result"
    }
   ],
   "source": [
    "df.head()"
   ]
  },
  {
   "cell_type": "markdown",
   "metadata": {},
   "source": [
    "### Text Preprocessing (Using Stemming)"
   ]
  },
  {
   "cell_type": "code",
   "execution_count": 4,
   "metadata": {},
   "outputs": [],
   "source": [
    "def stemming(df):\n",
    "    corpus = []\n",
    "    ps = PorterStemmer()\n",
    "    for i in range(len(df)):\n",
    "        # remove all except letters\n",
    "        sentence = re.sub('^a-zA-Z', ' ', df['message'][i])\n",
    "        # make all letters lowercase\n",
    "        sentence = sentence.lower()\n",
    "        # split sentence into list of words\n",
    "        words = sentence.split()\n",
    "        # apply lemmatiztion to all words except stopwords\n",
    "        words = [ps.stem(word) for word in words if word not in stopwords.words('english')]\n",
    "        # join the words to reform a sentence\n",
    "        sentence = ' '.join(words)\n",
    "        # append to list of lemmatized sentences\n",
    "        corpus.append(sentence)\n",
    "    return corpus"
   ]
  },
  {
   "cell_type": "markdown",
   "metadata": {},
   "source": [
    "### Text Preprocessing (Using Lemmatization)"
   ]
  },
  {
   "cell_type": "code",
   "execution_count": 5,
   "metadata": {},
   "outputs": [],
   "source": [
    "def lemmatization(df):\n",
    "    corpus = []\n",
    "    wnl = WordNetLemmatizer()\n",
    "    for i in range(len(df)):\n",
    "        # remove all except letters\n",
    "        sentence = re.sub('^a-zA-Z', ' ', df['message'][i])\n",
    "        # make all letters lowercase\n",
    "        sentence = sentence.lower()\n",
    "        # split sentence into list of words\n",
    "        words = sentence.split()\n",
    "        # apply stemming to all words except stopwords\n",
    "        words = [wnl.lemmatize(word) for word in words if word not in stopwords.words('english')]\n",
    "        # join the words to reform a sentence\n",
    "        sentence = ' '.join(words)\n",
    "        # append to list of stemmmed sentences\n",
    "        corpus.append(sentence)\n",
    "    return corpus"
   ]
  },
  {
   "cell_type": "markdown",
   "metadata": {},
   "source": [
    "### CountVectorizer"
   ]
  },
  {
   "cell_type": "code",
   "execution_count": 6,
   "metadata": {},
   "outputs": [],
   "source": [
    "def count_vectorizer(df, corpus):\n",
    "    cv = CountVectorizer(max_features = 5000)\n",
    "    X = cv.fit_transform(corpus).toarray()\n",
    "    y = pd.get_dummies(df['label'])\n",
    "    y = y.iloc[:, 1].values\n",
    "    X_train, X_test, y_train, y_test = train_test_split(X, y, test_size = 0.2, random_state = 0)\n",
    "    spam_classifier = MultinomialNB()\n",
    "    spam_classifier.fit(X_train, y_train)\n",
    "    y_preds = spam_classifier.predict(X_test)\n",
    "    cm = confusion_matrix(y_test, y_preds)\n",
    "    accuracy = accuracy_score(y_test, y_preds)\n",
    "    return cm, accuracy"
   ]
  },
  {
   "cell_type": "markdown",
   "metadata": {},
   "source": [
    "### TFIDF"
   ]
  },
  {
   "cell_type": "code",
   "execution_count": 7,
   "metadata": {},
   "outputs": [],
   "source": [
    "def tfidf_vectorizer(df, corpus):\n",
    "    tfidf = TfidfVectorizer(max_features = 5000)\n",
    "    X = tfidf.fit_transform(corpus).toarray()\n",
    "    y = pd.get_dummies(df['label'])\n",
    "    y = y.iloc[:, 1].values\n",
    "    X_train, X_test, y_train, y_test = train_test_split(X, y, test_size = 0.2, random_state = 0)\n",
    "    spam_classifier = MultinomialNB()\n",
    "    spam_classifier.fit(X_train, y_train)\n",
    "    y_preds = spam_classifier.predict(X_test)\n",
    "    cm = confusion_matrix(y_test, y_preds)\n",
    "    accuracy = accuracy_score(y_test, y_preds)\n",
    "    return cm, accuracy"
   ]
  },
  {
   "cell_type": "markdown",
   "metadata": {},
   "source": [
    "#### Using Stemming & CountVectorizer"
   ]
  },
  {
   "cell_type": "code",
   "execution_count": 8,
   "metadata": {},
   "outputs": [
    {
     "name": "stdout",
     "output_type": "stream",
     "text": [
      "[[949   6]\n",
      " [  8 152]]\n",
      "0.9874439461883409\n"
     ]
    }
   ],
   "source": [
    "corpus = stemming(df)\n",
    "matrix, acc = count_vectorizer(df, corpus)\n",
    "print(matrix)\n",
    "print(acc)"
   ]
  },
  {
   "cell_type": "markdown",
   "metadata": {},
   "source": [
    "#### Using Lemmatization & CountVectorizer"
   ]
  },
  {
   "cell_type": "code",
   "execution_count": 9,
   "metadata": {},
   "outputs": [
    {
     "name": "stdout",
     "output_type": "stream",
     "text": [
      "[[950   5]\n",
      " [  7 153]]\n",
      "0.989237668161435\n"
     ]
    }
   ],
   "source": [
    "corpus = lemmatization(df)\n",
    "matrix, acc = count_vectorizer(df, corpus)\n",
    "print(matrix)\n",
    "print(acc)"
   ]
  },
  {
   "cell_type": "markdown",
   "metadata": {},
   "source": [
    "#### Using Stemming & TFIDF"
   ]
  },
  {
   "cell_type": "code",
   "execution_count": 10,
   "metadata": {},
   "outputs": [
    {
     "name": "stdout",
     "output_type": "stream",
     "text": [
      "[[955   0]\n",
      " [ 22 138]]\n",
      "0.9802690582959641\n"
     ]
    }
   ],
   "source": [
    "corpus = stemming(df)\n",
    "matrix, acc = tfidf_vectorizer(df, corpus)\n",
    "print(matrix)\n",
    "print(acc)"
   ]
  },
  {
   "cell_type": "markdown",
   "metadata": {},
   "source": [
    "#### Using Lemmatization & TFIDF"
   ]
  },
  {
   "cell_type": "code",
   "execution_count": 11,
   "metadata": {},
   "outputs": [
    {
     "name": "stdout",
     "output_type": "stream",
     "text": [
      "[[955   0]\n",
      " [ 22 138]]\n",
      "0.9802690582959641\n"
     ]
    }
   ],
   "source": [
    "corpus = lemmatization(df)\n",
    "matrix, acc = tfidf_vectorizer(df, corpus)\n",
    "print(matrix)\n",
    "print(acc)"
   ]
  }
 ],
 "metadata": {
  "kernelspec": {
   "display_name": "Python 3",
   "language": "python",
   "name": "python3"
  },
  "language_info": {
   "codemirror_mode": {
    "name": "ipython",
    "version": 3
   },
   "file_extension": ".py",
   "mimetype": "text/x-python",
   "name": "python",
   "nbconvert_exporter": "python",
   "pygments_lexer": "ipython3",
   "version": "3.7.6"
  }
 },
 "nbformat": 4,
 "nbformat_minor": 4
}
