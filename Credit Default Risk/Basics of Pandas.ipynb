{
 "cells": [
  {
   "cell_type": "markdown",
   "metadata": {},
   "source": [
    "PANDAS OPERATIONS"
   ]
  },
  {
   "cell_type": "code",
   "execution_count": 8,
   "metadata": {},
   "outputs": [],
   "source": [
    "import pandas as pd"
   ]
  },
  {
   "cell_type": "code",
   "execution_count": 9,
   "metadata": {},
   "outputs": [
    {
     "name": "stdout",
     "output_type": "stream",
     "text": [
      "0.24.2\n"
     ]
    }
   ],
   "source": [
    "#check pandas version\n",
    "print(pd.__version__)"
   ]
  },
  {
   "cell_type": "markdown",
   "metadata": {},
   "source": [
    "Series Create,Manipulate,Querry,Delete"
   ]
  },
  {
   "cell_type": "code",
   "execution_count": 10,
   "metadata": {},
   "outputs": [
    {
     "data": {
      "text/plain": [
       "0             Avatar\n",
       "1    The Dark Knight\n",
       "2     Kung Fu Hustle\n",
       "dtype: object"
      ]
     },
     "execution_count": 10,
     "metadata": {},
     "output_type": "execute_result"
    }
   ],
   "source": [
    "#creating a series from a list\n",
    "array=[\"Avatar\",\"The Dark Knight\",\"Kung Fu Hustle\"]\n",
    "list=pd.Series(array)\n",
    "list"
   ]
  },
  {
   "cell_type": "code",
   "execution_count": 11,
   "metadata": {},
   "outputs": [
    {
     "data": {
      "text/plain": [
       "First     0.047482\n",
       "Second    1.172558\n",
       "Third    -0.515100\n",
       "dtype: float64"
      ]
     },
     "execution_count": 11,
     "metadata": {},
     "output_type": "execute_result"
    }
   ],
   "source": [
    "#create random ndarray and change index\n",
    "import numpy as np\n",
    "k=np.random.randn(3)\n",
    "i=['First','Second','Third']\n",
    "s=pd.Series(k,index=i)\n",
    "s"
   ]
  },
  {
   "cell_type": "code",
   "execution_count": 12,
   "metadata": {},
   "outputs": [
    {
     "data": {
      "text/plain": [
       "First     Avengers Endgame\n",
       "Second              Avatar\n",
       "dtype: object"
      ]
     },
     "execution_count": 12,
     "metadata": {},
     "output_type": "execute_result"
    }
   ],
   "source": [
    "#create series from dictionary\n",
    "d={'First':\"Avengers Endgame\",'Second':\"Avatar\"}\n",
    "s1=pd.Series(d)\n",
    "s1"
   ]
  },
  {
   "cell_type": "code",
   "execution_count": 70,
   "metadata": {},
   "outputs": [
    {
     "data": {
      "text/plain": [
       "A             Avatar\n",
       "B    The Dark Knight\n",
       "C     Kung Fu Hustle\n",
       "dtype: object"
      ]
     },
     "execution_count": 70,
     "metadata": {},
     "output_type": "execute_result"
    }
   ],
   "source": [
    "#modify index of series\n",
    "list.index=['A','B','C']\n",
    "list"
   ]
  },
  {
   "cell_type": "code",
   "execution_count": 14,
   "metadata": {},
   "outputs": [
    {
     "data": {
      "text/plain": [
       "A             Avatar\n",
       "B    The Dark Knight\n",
       "C     Kung Fu Hustle\n",
       "dtype: object"
      ]
     },
     "execution_count": 14,
     "metadata": {},
     "output_type": "execute_result"
    }
   ],
   "source": [
    "#slicing\n",
    "s2=list[:3]\n",
    "s2"
   ]
  },
  {
   "cell_type": "code",
   "execution_count": 15,
   "metadata": {},
   "outputs": [
    {
     "data": {
      "text/plain": [
       "A                   Avatar\n",
       "B          The Dark Knight\n",
       "C           Kung Fu Hustle\n",
       "First     Avengers Endgame\n",
       "Second              Avatar\n",
       "dtype: object"
      ]
     },
     "execution_count": 15,
     "metadata": {},
     "output_type": "execute_result"
    }
   ],
   "source": [
    "s3=list.append(s1)\n",
    "s3"
   ]
  },
  {
   "cell_type": "code",
   "execution_count": 16,
   "metadata": {},
   "outputs": [
    {
     "data": {
      "text/plain": [
       "A                  Avatar\n",
       "B         The Dark Knight\n",
       "C          Kung Fu Hustle\n",
       "Second             Avatar\n",
       "dtype: object"
      ]
     },
     "execution_count": 16,
     "metadata": {},
     "output_type": "execute_result"
    }
   ],
   "source": [
    "s3.drop('First')"
   ]
  },
  {
   "cell_type": "markdown",
   "metadata": {},
   "source": [
    "Create DataFrame"
   ]
  },
  {
   "cell_type": "code",
   "execution_count": 24,
   "metadata": {},
   "outputs": [
    {
     "data": {
      "text/html": [
       "<div>\n",
       "<style scoped>\n",
       "    .dataframe tbody tr th:only-of-type {\n",
       "        vertical-align: middle;\n",
       "    }\n",
       "\n",
       "    .dataframe tbody tr th {\n",
       "        vertical-align: top;\n",
       "    }\n",
       "\n",
       "    .dataframe thead th {\n",
       "        text-align: right;\n",
       "    }\n",
       "</style>\n",
       "<table border=\"1\" class=\"dataframe\">\n",
       "  <thead>\n",
       "    <tr style=\"text-align: right;\">\n",
       "      <th></th>\n",
       "      <th>A1</th>\n",
       "      <th>A2</th>\n",
       "      <th>A3</th>\n",
       "      <th>A4</th>\n",
       "      <th>A5</th>\n",
       "    </tr>\n",
       "  </thead>\n",
       "  <tbody>\n",
       "    <tr>\n",
       "      <th>2019-09-08 17:30:08.743942</th>\n",
       "      <td>-0.039119</td>\n",
       "      <td>-1.072947</td>\n",
       "      <td>0.336453</td>\n",
       "      <td>-0.448081</td>\n",
       "      <td>-1.107943</td>\n",
       "    </tr>\n",
       "    <tr>\n",
       "      <th>2019-09-09 17:30:08.743942</th>\n",
       "      <td>1.731963</td>\n",
       "      <td>0.175018</td>\n",
       "      <td>0.987756</td>\n",
       "      <td>-1.614862</td>\n",
       "      <td>0.267969</td>\n",
       "    </tr>\n",
       "    <tr>\n",
       "      <th>2019-09-10 17:30:08.743942</th>\n",
       "      <td>0.082149</td>\n",
       "      <td>0.619153</td>\n",
       "      <td>-0.380246</td>\n",
       "      <td>-2.066589</td>\n",
       "      <td>0.793770</td>\n",
       "    </tr>\n",
       "    <tr>\n",
       "      <th>2019-09-11 17:30:08.743942</th>\n",
       "      <td>1.341348</td>\n",
       "      <td>0.614266</td>\n",
       "      <td>0.193021</td>\n",
       "      <td>0.644742</td>\n",
       "      <td>-0.850122</td>\n",
       "    </tr>\n",
       "    <tr>\n",
       "      <th>2019-09-12 17:30:08.743942</th>\n",
       "      <td>-1.066134</td>\n",
       "      <td>0.353811</td>\n",
       "      <td>-1.554685</td>\n",
       "      <td>0.936170</td>\n",
       "      <td>0.176015</td>\n",
       "    </tr>\n",
       "    <tr>\n",
       "      <th>2019-09-13 17:30:08.743942</th>\n",
       "      <td>0.078484</td>\n",
       "      <td>0.391164</td>\n",
       "      <td>0.016156</td>\n",
       "      <td>1.409079</td>\n",
       "      <td>-2.619115</td>\n",
       "    </tr>\n",
       "    <tr>\n",
       "      <th>2019-09-14 17:30:08.743942</th>\n",
       "      <td>-0.895921</td>\n",
       "      <td>-0.410593</td>\n",
       "      <td>0.016545</td>\n",
       "      <td>1.810890</td>\n",
       "      <td>1.643943</td>\n",
       "    </tr>\n",
       "    <tr>\n",
       "      <th>2019-09-15 17:30:08.743942</th>\n",
       "      <td>0.284204</td>\n",
       "      <td>0.594046</td>\n",
       "      <td>1.209400</td>\n",
       "      <td>0.189833</td>\n",
       "      <td>0.454552</td>\n",
       "    </tr>\n",
       "  </tbody>\n",
       "</table>\n",
       "</div>"
      ],
      "text/plain": [
       "                                  A1        A2        A3        A4        A5\n",
       "2019-09-08 17:30:08.743942 -0.039119 -1.072947  0.336453 -0.448081 -1.107943\n",
       "2019-09-09 17:30:08.743942  1.731963  0.175018  0.987756 -1.614862  0.267969\n",
       "2019-09-10 17:30:08.743942  0.082149  0.619153 -0.380246 -2.066589  0.793770\n",
       "2019-09-11 17:30:08.743942  1.341348  0.614266  0.193021  0.644742 -0.850122\n",
       "2019-09-12 17:30:08.743942 -1.066134  0.353811 -1.554685  0.936170  0.176015\n",
       "2019-09-13 17:30:08.743942  0.078484  0.391164  0.016156  1.409079 -2.619115\n",
       "2019-09-14 17:30:08.743942 -0.895921 -0.410593  0.016545  1.810890  1.643943\n",
       "2019-09-15 17:30:08.743942  0.284204  0.594046  1.209400  0.189833  0.454552"
      ]
     },
     "execution_count": 24,
     "metadata": {},
     "output_type": "execute_result"
    }
   ],
   "source": [
    "dates=pd.date_range('today',periods=8)\n",
    "nums=np.random.randn(8,5)\n",
    "columns=['A1','A2','A3','A4','A5']\n",
    "\n",
    "df=pd.DataFrame(nums,index=dates,columns=columns)\n",
    "df"
   ]
  },
  {
   "cell_type": "code",
   "execution_count": 28,
   "metadata": {},
   "outputs": [
    {
     "data": {
      "text/html": [
       "<div>\n",
       "<style scoped>\n",
       "    .dataframe tbody tr th:only-of-type {\n",
       "        vertical-align: middle;\n",
       "    }\n",
       "\n",
       "    .dataframe tbody tr th {\n",
       "        vertical-align: top;\n",
       "    }\n",
       "\n",
       "    .dataframe thead th {\n",
       "        text-align: right;\n",
       "    }\n",
       "</style>\n",
       "<table border=\"1\" class=\"dataframe\">\n",
       "  <thead>\n",
       "    <tr style=\"text-align: right;\">\n",
       "      <th></th>\n",
       "      <th>Name</th>\n",
       "      <th>Year</th>\n",
       "      <th>Priority</th>\n",
       "      <th>Watched</th>\n",
       "    </tr>\n",
       "  </thead>\n",
       "  <tbody>\n",
       "    <tr>\n",
       "      <th>1</th>\n",
       "      <td>The Avengers</td>\n",
       "      <td>2011</td>\n",
       "      <td>Fourth</td>\n",
       "      <td>Y</td>\n",
       "    </tr>\n",
       "    <tr>\n",
       "      <th>2</th>\n",
       "      <td>Avengers:Age of Ultron</td>\n",
       "      <td>2014</td>\n",
       "      <td>Fifth</td>\n",
       "      <td>Y</td>\n",
       "    </tr>\n",
       "    <tr>\n",
       "      <th>3</th>\n",
       "      <td>Avengers:Infinity War</td>\n",
       "      <td>2017</td>\n",
       "      <td>Second</td>\n",
       "      <td>Y</td>\n",
       "    </tr>\n",
       "    <tr>\n",
       "      <th>4</th>\n",
       "      <td>Thor Ragnarok</td>\n",
       "      <td>2019</td>\n",
       "      <td>First</td>\n",
       "      <td>Y</td>\n",
       "    </tr>\n",
       "    <tr>\n",
       "      <th>5</th>\n",
       "      <td>Avengers Endgame</td>\n",
       "      <td>2020</td>\n",
       "      <td>Sixth</td>\n",
       "      <td>N</td>\n",
       "    </tr>\n",
       "    <tr>\n",
       "      <th>6</th>\n",
       "      <td>Black Widow</td>\n",
       "      <td>2018</td>\n",
       "      <td>Third</td>\n",
       "      <td>Not Released</td>\n",
       "    </tr>\n",
       "  </tbody>\n",
       "</table>\n",
       "</div>"
      ],
      "text/plain": [
       "                     Name  Year Priority       Watched\n",
       "1            The Avengers  2011   Fourth             Y\n",
       "2  Avengers:Age of Ultron  2014    Fifth             Y\n",
       "3   Avengers:Infinity War  2017   Second             Y\n",
       "4           Thor Ragnarok  2019    First             Y\n",
       "5        Avengers Endgame  2020    Sixth             N\n",
       "6             Black Widow  2018    Third  Not Released"
      ]
     },
     "execution_count": 28,
     "metadata": {},
     "output_type": "execute_result"
    }
   ],
   "source": [
    "#create dtaframe with dictionary array\n",
    "movies={'Name':[\"The Avengers\",\"Avengers:Age of Ultron\",\"Avengers:Infinity War\",\"Thor Ragnarok\",\"Avengers Endgame\",\"Black Widow\"],\n",
    "     'Year':[2011,2014,2017,2019,2020,2018],'Priority':[\"Fourth\",\"Fifth\",\"Second\",\"First\",\"Sixth\",\"Third\"],'Watched':['Y','Y','Y','Y','N',\"Not Released\"]}\n",
    "cols=[1,2,3,4,5,6]\n",
    "\n",
    "df1=pd.DataFrame(movies,index=cols)\n",
    "df1"
   ]
  },
  {
   "cell_type": "code",
   "execution_count": 29,
   "metadata": {},
   "outputs": [
    {
     "data": {
      "text/plain": [
       "Name        object\n",
       "Year         int64\n",
       "Priority    object\n",
       "Watched     object\n",
       "dtype: object"
      ]
     },
     "execution_count": 29,
     "metadata": {},
     "output_type": "execute_result"
    }
   ],
   "source": [
    "#see data types used in dataframe\n",
    "df1.dtypes"
   ]
  },
  {
   "cell_type": "code",
   "execution_count": 33,
   "metadata": {},
   "outputs": [
    {
     "name": "stdout",
     "output_type": "stream",
     "text": [
      "                     Name  Year Priority Watched\n",
      "1            The Avengers  2011   Fourth       Y\n",
      "2  Avengers:Age of Ultron  2014    Fifth       Y\n"
     ]
    },
    {
     "data": {
      "text/html": [
       "<div>\n",
       "<style scoped>\n",
       "    .dataframe tbody tr th:only-of-type {\n",
       "        vertical-align: middle;\n",
       "    }\n",
       "\n",
       "    .dataframe tbody tr th {\n",
       "        vertical-align: top;\n",
       "    }\n",
       "\n",
       "    .dataframe thead th {\n",
       "        text-align: right;\n",
       "    }\n",
       "</style>\n",
       "<table border=\"1\" class=\"dataframe\">\n",
       "  <thead>\n",
       "    <tr style=\"text-align: right;\">\n",
       "      <th></th>\n",
       "      <th>Name</th>\n",
       "      <th>Year</th>\n",
       "      <th>Priority</th>\n",
       "      <th>Watched</th>\n",
       "    </tr>\n",
       "  </thead>\n",
       "  <tbody>\n",
       "    <tr>\n",
       "      <th>4</th>\n",
       "      <td>Thor Ragnarok</td>\n",
       "      <td>2019</td>\n",
       "      <td>First</td>\n",
       "      <td>Y</td>\n",
       "    </tr>\n",
       "    <tr>\n",
       "      <th>5</th>\n",
       "      <td>Avengers Endgame</td>\n",
       "      <td>2020</td>\n",
       "      <td>Sixth</td>\n",
       "      <td>N</td>\n",
       "    </tr>\n",
       "    <tr>\n",
       "      <th>6</th>\n",
       "      <td>Black Widow</td>\n",
       "      <td>2018</td>\n",
       "      <td>Third</td>\n",
       "      <td>Not Released</td>\n",
       "    </tr>\n",
       "  </tbody>\n",
       "</table>\n",
       "</div>"
      ],
      "text/plain": [
       "               Name  Year Priority       Watched\n",
       "4     Thor Ragnarok  2019    First             Y\n",
       "5  Avengers Endgame  2020    Sixth             N\n",
       "6       Black Widow  2018    Third  Not Released"
      ]
     },
     "execution_count": 33,
     "metadata": {},
     "output_type": "execute_result"
    }
   ],
   "source": [
    "print(df1.head(2))\n",
    "df1.tail(3)"
   ]
  },
  {
   "cell_type": "code",
   "execution_count": 37,
   "metadata": {},
   "outputs": [
    {
     "name": "stdout",
     "output_type": "stream",
     "text": [
      "Int64Index([1, 2, 3, 4, 5, 6], dtype='int64')\n",
      "Index(['Name', 'Year', 'Priority', 'Watched'], dtype='object')\n"
     ]
    },
    {
     "data": {
      "text/plain": [
       "array([['The Avengers', 2011, 'Fourth', 'Y'],\n",
       "       ['Avengers:Age of Ultron', 2014, 'Fifth', 'Y'],\n",
       "       ['Avengers:Infinity War', 2017, 'Second', 'Y'],\n",
       "       ['Thor Ragnarok', 2019, 'First', 'Y'],\n",
       "       ['Avengers Endgame', 2020, 'Sixth', 'N'],\n",
       "       ['Black Widow', 2018, 'Third', 'Not Released']], dtype=object)"
      ]
     },
     "execution_count": 37,
     "metadata": {},
     "output_type": "execute_result"
    }
   ],
   "source": [
    "print(df1.index)\n",
    "print(df1.columns)\n",
    "df1.values"
   ]
  },
  {
   "cell_type": "code",
   "execution_count": 38,
   "metadata": {},
   "outputs": [
    {
     "data": {
      "text/html": [
       "<div>\n",
       "<style scoped>\n",
       "    .dataframe tbody tr th:only-of-type {\n",
       "        vertical-align: middle;\n",
       "    }\n",
       "\n",
       "    .dataframe tbody tr th {\n",
       "        vertical-align: top;\n",
       "    }\n",
       "\n",
       "    .dataframe thead th {\n",
       "        text-align: right;\n",
       "    }\n",
       "</style>\n",
       "<table border=\"1\" class=\"dataframe\">\n",
       "  <thead>\n",
       "    <tr style=\"text-align: right;\">\n",
       "      <th></th>\n",
       "      <th>Year</th>\n",
       "    </tr>\n",
       "  </thead>\n",
       "  <tbody>\n",
       "    <tr>\n",
       "      <th>count</th>\n",
       "      <td>6.000000</td>\n",
       "    </tr>\n",
       "    <tr>\n",
       "      <th>mean</th>\n",
       "      <td>2016.500000</td>\n",
       "    </tr>\n",
       "    <tr>\n",
       "      <th>std</th>\n",
       "      <td>3.391165</td>\n",
       "    </tr>\n",
       "    <tr>\n",
       "      <th>min</th>\n",
       "      <td>2011.000000</td>\n",
       "    </tr>\n",
       "    <tr>\n",
       "      <th>25%</th>\n",
       "      <td>2014.750000</td>\n",
       "    </tr>\n",
       "    <tr>\n",
       "      <th>50%</th>\n",
       "      <td>2017.500000</td>\n",
       "    </tr>\n",
       "    <tr>\n",
       "      <th>75%</th>\n",
       "      <td>2018.750000</td>\n",
       "    </tr>\n",
       "    <tr>\n",
       "      <th>max</th>\n",
       "      <td>2020.000000</td>\n",
       "    </tr>\n",
       "  </tbody>\n",
       "</table>\n",
       "</div>"
      ],
      "text/plain": [
       "              Year\n",
       "count     6.000000\n",
       "mean   2016.500000\n",
       "std       3.391165\n",
       "min    2011.000000\n",
       "25%    2014.750000\n",
       "50%    2017.500000\n",
       "75%    2018.750000\n",
       "max    2020.000000"
      ]
     },
     "execution_count": 38,
     "metadata": {},
     "output_type": "execute_result"
    }
   ],
   "source": [
    "#see statistical data of dataframe\n",
    "df1.describe()"
   ]
  },
  {
   "cell_type": "code",
   "execution_count": 39,
   "metadata": {},
   "outputs": [
    {
     "data": {
      "text/html": [
       "<div>\n",
       "<style scoped>\n",
       "    .dataframe tbody tr th:only-of-type {\n",
       "        vertical-align: middle;\n",
       "    }\n",
       "\n",
       "    .dataframe tbody tr th {\n",
       "        vertical-align: top;\n",
       "    }\n",
       "\n",
       "    .dataframe thead th {\n",
       "        text-align: right;\n",
       "    }\n",
       "</style>\n",
       "<table border=\"1\" class=\"dataframe\">\n",
       "  <thead>\n",
       "    <tr style=\"text-align: right;\">\n",
       "      <th></th>\n",
       "      <th>1</th>\n",
       "      <th>2</th>\n",
       "      <th>3</th>\n",
       "      <th>4</th>\n",
       "      <th>5</th>\n",
       "      <th>6</th>\n",
       "    </tr>\n",
       "  </thead>\n",
       "  <tbody>\n",
       "    <tr>\n",
       "      <th>Name</th>\n",
       "      <td>The Avengers</td>\n",
       "      <td>Avengers:Age of Ultron</td>\n",
       "      <td>Avengers:Infinity War</td>\n",
       "      <td>Thor Ragnarok</td>\n",
       "      <td>Avengers Endgame</td>\n",
       "      <td>Black Widow</td>\n",
       "    </tr>\n",
       "    <tr>\n",
       "      <th>Year</th>\n",
       "      <td>2011</td>\n",
       "      <td>2014</td>\n",
       "      <td>2017</td>\n",
       "      <td>2019</td>\n",
       "      <td>2020</td>\n",
       "      <td>2018</td>\n",
       "    </tr>\n",
       "    <tr>\n",
       "      <th>Priority</th>\n",
       "      <td>Fourth</td>\n",
       "      <td>Fifth</td>\n",
       "      <td>Second</td>\n",
       "      <td>First</td>\n",
       "      <td>Sixth</td>\n",
       "      <td>Third</td>\n",
       "    </tr>\n",
       "    <tr>\n",
       "      <th>Watched</th>\n",
       "      <td>Y</td>\n",
       "      <td>Y</td>\n",
       "      <td>Y</td>\n",
       "      <td>Y</td>\n",
       "      <td>N</td>\n",
       "      <td>Not Released</td>\n",
       "    </tr>\n",
       "  </tbody>\n",
       "</table>\n",
       "</div>"
      ],
      "text/plain": [
       "                     1                       2                      3  \\\n",
       "Name      The Avengers  Avengers:Age of Ultron  Avengers:Infinity War   \n",
       "Year              2011                    2014                   2017   \n",
       "Priority        Fourth                   Fifth                 Second   \n",
       "Watched              Y                       Y                      Y   \n",
       "\n",
       "                      4                 5             6  \n",
       "Name      Thor Ragnarok  Avengers Endgame   Black Widow  \n",
       "Year               2019              2020          2018  \n",
       "Priority          First             Sixth         Third  \n",
       "Watched               Y                 N  Not Released  "
      ]
     },
     "execution_count": 39,
     "metadata": {},
     "output_type": "execute_result"
    }
   ],
   "source": [
    "#transposing\n",
    "df1.T"
   ]
  },
  {
   "cell_type": "code",
   "execution_count": 45,
   "metadata": {},
   "outputs": [
    {
     "data": {
      "text/html": [
       "<div>\n",
       "<style scoped>\n",
       "    .dataframe tbody tr th:only-of-type {\n",
       "        vertical-align: middle;\n",
       "    }\n",
       "\n",
       "    .dataframe tbody tr th {\n",
       "        vertical-align: top;\n",
       "    }\n",
       "\n",
       "    .dataframe thead th {\n",
       "        text-align: right;\n",
       "    }\n",
       "</style>\n",
       "<table border=\"1\" class=\"dataframe\">\n",
       "  <thead>\n",
       "    <tr style=\"text-align: right;\">\n",
       "      <th></th>\n",
       "      <th>Name</th>\n",
       "      <th>Year</th>\n",
       "      <th>Priority</th>\n",
       "      <th>Watched</th>\n",
       "    </tr>\n",
       "  </thead>\n",
       "  <tbody>\n",
       "    <tr>\n",
       "      <th>3</th>\n",
       "      <td>Avengers:Infinity War</td>\n",
       "      <td>2017</td>\n",
       "      <td>Second</td>\n",
       "      <td>Y</td>\n",
       "    </tr>\n",
       "    <tr>\n",
       "      <th>6</th>\n",
       "      <td>Black Widow</td>\n",
       "      <td>2018</td>\n",
       "      <td>Third</td>\n",
       "      <td>Not Released</td>\n",
       "    </tr>\n",
       "    <tr>\n",
       "      <th>4</th>\n",
       "      <td>Thor Ragnarok</td>\n",
       "      <td>2019</td>\n",
       "      <td>First</td>\n",
       "      <td>Y</td>\n",
       "    </tr>\n",
       "  </tbody>\n",
       "</table>\n",
       "</div>"
      ],
      "text/plain": [
       "                    Name  Year Priority       Watched\n",
       "3  Avengers:Infinity War  2017   Second             Y\n",
       "6            Black Widow  2018    Third  Not Released\n",
       "4          Thor Ragnarok  2019    First             Y"
      ]
     },
     "execution_count": 45,
     "metadata": {},
     "output_type": "execute_result"
    }
   ],
   "source": [
    "#slicing dataframe and sorting it by specific tag\n",
    "df1.sort_values(by='Year')[2:5]"
   ]
  },
  {
   "cell_type": "code",
   "execution_count": 46,
   "metadata": {},
   "outputs": [
    {
     "data": {
      "text/html": [
       "<div>\n",
       "<style scoped>\n",
       "    .dataframe tbody tr th:only-of-type {\n",
       "        vertical-align: middle;\n",
       "    }\n",
       "\n",
       "    .dataframe tbody tr th {\n",
       "        vertical-align: top;\n",
       "    }\n",
       "\n",
       "    .dataframe thead th {\n",
       "        text-align: right;\n",
       "    }\n",
       "</style>\n",
       "<table border=\"1\" class=\"dataframe\">\n",
       "  <thead>\n",
       "    <tr style=\"text-align: right;\">\n",
       "      <th></th>\n",
       "      <th>Name</th>\n",
       "      <th>Priority</th>\n",
       "    </tr>\n",
       "  </thead>\n",
       "  <tbody>\n",
       "    <tr>\n",
       "      <th>1</th>\n",
       "      <td>The Avengers</td>\n",
       "      <td>Fourth</td>\n",
       "    </tr>\n",
       "    <tr>\n",
       "      <th>2</th>\n",
       "      <td>Avengers:Age of Ultron</td>\n",
       "      <td>Fifth</td>\n",
       "    </tr>\n",
       "    <tr>\n",
       "      <th>3</th>\n",
       "      <td>Avengers:Infinity War</td>\n",
       "      <td>Second</td>\n",
       "    </tr>\n",
       "    <tr>\n",
       "      <th>4</th>\n",
       "      <td>Thor Ragnarok</td>\n",
       "      <td>First</td>\n",
       "    </tr>\n",
       "    <tr>\n",
       "      <th>5</th>\n",
       "      <td>Avengers Endgame</td>\n",
       "      <td>Sixth</td>\n",
       "    </tr>\n",
       "    <tr>\n",
       "      <th>6</th>\n",
       "      <td>Black Widow</td>\n",
       "      <td>Third</td>\n",
       "    </tr>\n",
       "  </tbody>\n",
       "</table>\n",
       "</div>"
      ],
      "text/plain": [
       "                     Name Priority\n",
       "1            The Avengers   Fourth\n",
       "2  Avengers:Age of Ultron    Fifth\n",
       "3   Avengers:Infinity War   Second\n",
       "4           Thor Ragnarok    First\n",
       "5        Avengers Endgame    Sixth\n",
       "6             Black Widow    Third"
      ]
     },
     "execution_count": 46,
     "metadata": {},
     "output_type": "execute_result"
    }
   ],
   "source": [
    "#querry dataframe by specific tags\n",
    "df1[['Name','Priority']]"
   ]
  },
  {
   "cell_type": "code",
   "execution_count": 47,
   "metadata": {},
   "outputs": [
    {
     "data": {
      "text/html": [
       "<div>\n",
       "<style scoped>\n",
       "    .dataframe tbody tr th:only-of-type {\n",
       "        vertical-align: middle;\n",
       "    }\n",
       "\n",
       "    .dataframe tbody tr th {\n",
       "        vertical-align: top;\n",
       "    }\n",
       "\n",
       "    .dataframe thead th {\n",
       "        text-align: right;\n",
       "    }\n",
       "</style>\n",
       "<table border=\"1\" class=\"dataframe\">\n",
       "  <thead>\n",
       "    <tr style=\"text-align: right;\">\n",
       "      <th></th>\n",
       "      <th>Name</th>\n",
       "      <th>Year</th>\n",
       "      <th>Priority</th>\n",
       "      <th>Watched</th>\n",
       "    </tr>\n",
       "  </thead>\n",
       "  <tbody>\n",
       "    <tr>\n",
       "      <th>3</th>\n",
       "      <td>Avengers:Infinity War</td>\n",
       "      <td>2017</td>\n",
       "      <td>Second</td>\n",
       "      <td>Y</td>\n",
       "    </tr>\n",
       "    <tr>\n",
       "      <th>4</th>\n",
       "      <td>Thor Ragnarok</td>\n",
       "      <td>2019</td>\n",
       "      <td>First</td>\n",
       "      <td>Y</td>\n",
       "    </tr>\n",
       "    <tr>\n",
       "      <th>5</th>\n",
       "      <td>Avengers Endgame</td>\n",
       "      <td>2020</td>\n",
       "      <td>Sixth</td>\n",
       "      <td>N</td>\n",
       "    </tr>\n",
       "  </tbody>\n",
       "</table>\n",
       "</div>"
      ],
      "text/plain": [
       "                    Name  Year Priority Watched\n",
       "3  Avengers:Infinity War  2017   Second       Y\n",
       "4          Thor Ragnarok  2019    First       Y\n",
       "5       Avengers Endgame  2020    Sixth       N"
      ]
     },
     "execution_count": 47,
     "metadata": {},
     "output_type": "execute_result"
    }
   ],
   "source": [
    "df1.iloc[2:5] #i location is same as slicing"
   ]
  },
  {
   "cell_type": "code",
   "execution_count": 48,
   "metadata": {},
   "outputs": [
    {
     "data": {
      "text/html": [
       "<div>\n",
       "<style scoped>\n",
       "    .dataframe tbody tr th:only-of-type {\n",
       "        vertical-align: middle;\n",
       "    }\n",
       "\n",
       "    .dataframe tbody tr th {\n",
       "        vertical-align: top;\n",
       "    }\n",
       "\n",
       "    .dataframe thead th {\n",
       "        text-align: right;\n",
       "    }\n",
       "</style>\n",
       "<table border=\"1\" class=\"dataframe\">\n",
       "  <thead>\n",
       "    <tr style=\"text-align: right;\">\n",
       "      <th></th>\n",
       "      <th>Name</th>\n",
       "      <th>Year</th>\n",
       "      <th>Priority</th>\n",
       "      <th>Watched</th>\n",
       "    </tr>\n",
       "  </thead>\n",
       "  <tbody>\n",
       "    <tr>\n",
       "      <th>1</th>\n",
       "      <td>False</td>\n",
       "      <td>False</td>\n",
       "      <td>False</td>\n",
       "      <td>False</td>\n",
       "    </tr>\n",
       "    <tr>\n",
       "      <th>2</th>\n",
       "      <td>False</td>\n",
       "      <td>False</td>\n",
       "      <td>False</td>\n",
       "      <td>False</td>\n",
       "    </tr>\n",
       "    <tr>\n",
       "      <th>3</th>\n",
       "      <td>False</td>\n",
       "      <td>False</td>\n",
       "      <td>False</td>\n",
       "      <td>False</td>\n",
       "    </tr>\n",
       "    <tr>\n",
       "      <th>4</th>\n",
       "      <td>False</td>\n",
       "      <td>False</td>\n",
       "      <td>False</td>\n",
       "      <td>False</td>\n",
       "    </tr>\n",
       "    <tr>\n",
       "      <th>5</th>\n",
       "      <td>False</td>\n",
       "      <td>False</td>\n",
       "      <td>False</td>\n",
       "      <td>False</td>\n",
       "    </tr>\n",
       "    <tr>\n",
       "      <th>6</th>\n",
       "      <td>False</td>\n",
       "      <td>False</td>\n",
       "      <td>False</td>\n",
       "      <td>False</td>\n",
       "    </tr>\n",
       "  </tbody>\n",
       "</table>\n",
       "</div>"
      ],
      "text/plain": [
       "    Name   Year  Priority  Watched\n",
       "1  False  False     False    False\n",
       "2  False  False     False    False\n",
       "3  False  False     False    False\n",
       "4  False  False     False    False\n",
       "5  False  False     False    False\n",
       "6  False  False     False    False"
      ]
     },
     "execution_count": 48,
     "metadata": {},
     "output_type": "execute_result"
    }
   ],
   "source": [
    "df2=df1.copy()\n",
    "df2.isnull()"
   ]
  },
  {
   "cell_type": "code",
   "execution_count": 56,
   "metadata": {},
   "outputs": [
    {
     "data": {
      "text/html": [
       "<div>\n",
       "<style scoped>\n",
       "    .dataframe tbody tr th:only-of-type {\n",
       "        vertical-align: middle;\n",
       "    }\n",
       "\n",
       "    .dataframe tbody tr th {\n",
       "        vertical-align: top;\n",
       "    }\n",
       "\n",
       "    .dataframe thead th {\n",
       "        text-align: right;\n",
       "    }\n",
       "</style>\n",
       "<table border=\"1\" class=\"dataframe\">\n",
       "  <thead>\n",
       "    <tr style=\"text-align: right;\">\n",
       "      <th></th>\n",
       "      <th>Name</th>\n",
       "      <th>Year</th>\n",
       "      <th>Priority</th>\n",
       "      <th>Watched</th>\n",
       "    </tr>\n",
       "  </thead>\n",
       "  <tbody>\n",
       "    <tr>\n",
       "      <th>1</th>\n",
       "      <td>The Avengers</td>\n",
       "      <td>2011</td>\n",
       "      <td>Fourth</td>\n",
       "      <td>Y</td>\n",
       "    </tr>\n",
       "    <tr>\n",
       "      <th>2</th>\n",
       "      <td>Avengers:Age of Ultron</td>\n",
       "      <td>2014</td>\n",
       "      <td>Fifth</td>\n",
       "      <td>Y</td>\n",
       "    </tr>\n",
       "    <tr>\n",
       "      <th>3</th>\n",
       "      <td>Avengers:Infinity War</td>\n",
       "      <td>2017</td>\n",
       "      <td>Second</td>\n",
       "      <td>Y</td>\n",
       "    </tr>\n",
       "    <tr>\n",
       "      <th>4</th>\n",
       "      <td>Thor Ragnarok</td>\n",
       "      <td>2019</td>\n",
       "      <td>First</td>\n",
       "      <td>Y</td>\n",
       "    </tr>\n",
       "    <tr>\n",
       "      <th>5</th>\n",
       "      <td>Avengers Endgame</td>\n",
       "      <td>2020</td>\n",
       "      <td>Sixth</td>\n",
       "      <td>N</td>\n",
       "    </tr>\n",
       "    <tr>\n",
       "      <th>6</th>\n",
       "      <td>Black Widow</td>\n",
       "      <td>2018</td>\n",
       "      <td>Third</td>\n",
       "      <td>Not Released</td>\n",
       "    </tr>\n",
       "    <tr>\n",
       "      <th>6</th>\n",
       "      <td>NaN</td>\n",
       "      <td>2021</td>\n",
       "      <td>NaN</td>\n",
       "      <td>NA</td>\n",
       "    </tr>\n",
       "    <tr>\n",
       "      <th>5</th>\n",
       "      <td>NaN</td>\n",
       "      <td>NaN</td>\n",
       "      <td>NaN</td>\n",
       "      <td>NA</td>\n",
       "    </tr>\n",
       "  </tbody>\n",
       "</table>\n",
       "</div>"
      ],
      "text/plain": [
       "                     Name  Year Priority       Watched\n",
       "1            The Avengers  2011   Fourth             Y\n",
       "2  Avengers:Age of Ultron  2014    Fifth             Y\n",
       "3   Avengers:Infinity War  2017   Second             Y\n",
       "4           Thor Ragnarok  2019    First             Y\n",
       "5        Avengers Endgame  2020    Sixth             N\n",
       "6             Black Widow  2018    Third  Not Released\n",
       "6                     NaN  2021      NaN            NA\n",
       "5                     NaN   NaN      NaN            NA"
      ]
     },
     "execution_count": 56,
     "metadata": {},
     "output_type": "execute_result"
    }
   ],
   "source": [
    "#PROBLEM\n",
    "df2.loc['6','Year']=2021\n",
    "df2"
   ]
  },
  {
   "cell_type": "code",
   "execution_count": 58,
   "metadata": {},
   "outputs": [
    {
     "name": "stdout",
     "output_type": "stream",
     "text": [
      "Year    2016.5\n",
      "dtype: float64\n"
     ]
    },
    {
     "data": {
      "text/plain": [
       "Name        The AvengersAvengers:Age of UltronAvengers:Inf...\n",
       "Year                                                    12099\n",
       "Priority                     FourthFifthSecondFirstSixthThird\n",
       "Watched                                     YYYYNNot Released\n",
       "dtype: object"
      ]
     },
     "execution_count": 58,
     "metadata": {},
     "output_type": "execute_result"
    }
   ],
   "source": [
    "print(df1.mean())\n",
    "df1.sum()"
   ]
  },
  {
   "cell_type": "markdown",
   "metadata": {},
   "source": [
    "DataFrame File Operations"
   ]
  },
  {
   "cell_type": "code",
   "execution_count": 59,
   "metadata": {},
   "outputs": [],
   "source": [
    "df1.to_csv('marvel.csv')"
   ]
  },
  {
   "cell_type": "code",
   "execution_count": 61,
   "metadata": {},
   "outputs": [
    {
     "data": {
      "text/html": [
       "<div>\n",
       "<style scoped>\n",
       "    .dataframe tbody tr th:only-of-type {\n",
       "        vertical-align: middle;\n",
       "    }\n",
       "\n",
       "    .dataframe tbody tr th {\n",
       "        vertical-align: top;\n",
       "    }\n",
       "\n",
       "    .dataframe thead th {\n",
       "        text-align: right;\n",
       "    }\n",
       "</style>\n",
       "<table border=\"1\" class=\"dataframe\">\n",
       "  <thead>\n",
       "    <tr style=\"text-align: right;\">\n",
       "      <th></th>\n",
       "      <th>Unnamed: 0</th>\n",
       "      <th>Name</th>\n",
       "      <th>Year</th>\n",
       "      <th>Priority</th>\n",
       "      <th>Watched</th>\n",
       "    </tr>\n",
       "  </thead>\n",
       "  <tbody>\n",
       "    <tr>\n",
       "      <th>0</th>\n",
       "      <td>1</td>\n",
       "      <td>The Avengers</td>\n",
       "      <td>2011</td>\n",
       "      <td>Fourth</td>\n",
       "      <td>Y</td>\n",
       "    </tr>\n",
       "    <tr>\n",
       "      <th>1</th>\n",
       "      <td>2</td>\n",
       "      <td>Avengers:Age of Ultron</td>\n",
       "      <td>2014</td>\n",
       "      <td>Fifth</td>\n",
       "      <td>Y</td>\n",
       "    </tr>\n",
       "    <tr>\n",
       "      <th>2</th>\n",
       "      <td>3</td>\n",
       "      <td>Avengers:Infinity War</td>\n",
       "      <td>2017</td>\n",
       "      <td>Second</td>\n",
       "      <td>Y</td>\n",
       "    </tr>\n",
       "  </tbody>\n",
       "</table>\n",
       "</div>"
      ],
      "text/plain": [
       "   Unnamed: 0                    Name  Year Priority Watched\n",
       "0           1            The Avengers  2011   Fourth       Y\n",
       "1           2  Avengers:Age of Ultron  2014    Fifth       Y\n",
       "2           3   Avengers:Infinity War  2017   Second       Y"
      ]
     },
     "execution_count": 61,
     "metadata": {},
     "output_type": "execute_result"
    }
   ],
   "source": [
    "df_marvel=pd.read_csv('marvel.csv')\n",
    "df_marvel.head(3)"
   ]
  },
  {
   "cell_type": "code",
   "execution_count": 69,
   "metadata": {},
   "outputs": [
    {
     "data": {
      "text/html": [
       "<div>\n",
       "<style scoped>\n",
       "    .dataframe tbody tr th:only-of-type {\n",
       "        vertical-align: middle;\n",
       "    }\n",
       "\n",
       "    .dataframe tbody tr th {\n",
       "        vertical-align: top;\n",
       "    }\n",
       "\n",
       "    .dataframe thead th {\n",
       "        text-align: right;\n",
       "    }\n",
       "</style>\n",
       "<table border=\"1\" class=\"dataframe\">\n",
       "  <thead>\n",
       "    <tr style=\"text-align: right;\">\n",
       "      <th></th>\n",
       "      <th>Unnamed: 0</th>\n",
       "      <th>Name</th>\n",
       "      <th>Year</th>\n",
       "      <th>Priority</th>\n",
       "      <th>Watched</th>\n",
       "    </tr>\n",
       "  </thead>\n",
       "  <tbody>\n",
       "    <tr>\n",
       "      <th>0</th>\n",
       "      <td>1</td>\n",
       "      <td>The Avengers</td>\n",
       "      <td>2011</td>\n",
       "      <td>Fourth</td>\n",
       "      <td>Y</td>\n",
       "    </tr>\n",
       "    <tr>\n",
       "      <th>1</th>\n",
       "      <td>2</td>\n",
       "      <td>Avengers:Age of Ultron</td>\n",
       "      <td>2014</td>\n",
       "      <td>Fifth</td>\n",
       "      <td>Y</td>\n",
       "    </tr>\n",
       "    <tr>\n",
       "      <th>2</th>\n",
       "      <td>3</td>\n",
       "      <td>Avengers:Infinity War</td>\n",
       "      <td>2017</td>\n",
       "      <td>Second</td>\n",
       "      <td>Y</td>\n",
       "    </tr>\n",
       "    <tr>\n",
       "      <th>3</th>\n",
       "      <td>4</td>\n",
       "      <td>Thor Ragnarok</td>\n",
       "      <td>2019</td>\n",
       "      <td>First</td>\n",
       "      <td>Y</td>\n",
       "    </tr>\n",
       "    <tr>\n",
       "      <th>4</th>\n",
       "      <td>5</td>\n",
       "      <td>Avengers Endgame</td>\n",
       "      <td>2020</td>\n",
       "      <td>Sixth</td>\n",
       "      <td>N</td>\n",
       "    </tr>\n",
       "    <tr>\n",
       "      <th>5</th>\n",
       "      <td>6</td>\n",
       "      <td>Black Widow</td>\n",
       "      <td>2018</td>\n",
       "      <td>Third</td>\n",
       "      <td>Not Released</td>\n",
       "    </tr>\n",
       "  </tbody>\n",
       "</table>\n",
       "</div>"
      ],
      "text/plain": [
       "   Unnamed: 0                    Name  Year Priority       Watched\n",
       "0           1            The Avengers  2011   Fourth             Y\n",
       "1           2  Avengers:Age of Ultron  2014    Fifth             Y\n",
       "2           3   Avengers:Infinity War  2017   Second             Y\n",
       "3           4           Thor Ragnarok  2019    First             Y\n",
       "4           5        Avengers Endgame  2020    Sixth             N\n",
       "5           6             Black Widow  2018    Third  Not Released"
      ]
     },
     "execution_count": 69,
     "metadata": {},
     "output_type": "execute_result"
    }
   ],
   "source": [
    "#PROBLEM\n",
    "df1.to_excel('marvel.xlsx',sheet_name='Movies')\n",
    "df_marvel2=pd.read_excel('marvel.xlsx','Movies',index_col=None)\n",
    "df_marvel2"
   ]
  },
  {
   "cell_type": "code",
   "execution_count": null,
   "metadata": {},
   "outputs": [],
   "source": []
  }
 ],
 "metadata": {
  "kernelspec": {
   "display_name": "Python 3",
   "language": "python",
   "name": "python3"
  },
  "language_info": {
   "codemirror_mode": {
    "name": "ipython",
    "version": 3
   },
   "file_extension": ".py",
   "mimetype": "text/x-python",
   "name": "python",
   "nbconvert_exporter": "python",
   "pygments_lexer": "ipython3",
   "version": "3.7.3"
  }
 },
 "nbformat": 4,
 "nbformat_minor": 2
}
