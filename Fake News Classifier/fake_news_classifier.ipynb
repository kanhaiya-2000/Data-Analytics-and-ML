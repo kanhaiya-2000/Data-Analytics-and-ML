{
 "cells": [
  {
   "cell_type": "markdown",
   "metadata": {},
   "source": [
    "## Fake News Classifier"
   ]
  },
  {
   "cell_type": "markdown",
   "metadata": {},
   "source": [
    "### Dataset: https://www.kaggle.com/c/fake-news/data"
   ]
  },
  {
   "cell_type": "code",
   "execution_count": 1,
   "metadata": {},
   "outputs": [],
   "source": [
    "import re\n",
    "import pandas as pd\n",
    "import numpy as np\n",
    "from nltk.corpus import stopwords\n",
    "from nltk.stem.porter import PorterStemmer\n",
    "from sklearn.model_selection import train_test_split\n",
    "from sklearn.feature_extraction.text import CountVectorizer\n",
    "from sklearn.feature_extraction.text import TfidfVectorizer\n",
    "from sklearn.naive_bayes import MultinomialNB\n",
    "from sklearn.linear_model import PassiveAggressiveClassifier\n",
    "from sklearn.metrics import confusion_matrix, accuracy_score"
   ]
  },
  {
   "cell_type": "code",
   "execution_count": 2,
   "metadata": {},
   "outputs": [],
   "source": [
    "df = pd.read_csv('train.csv')"
   ]
  },
  {
   "cell_type": "code",
   "execution_count": 3,
   "metadata": {},
   "outputs": [
    {
     "data": {
      "text/html": [
       "<div>\n",
       "<style scoped>\n",
       "    .dataframe tbody tr th:only-of-type {\n",
       "        vertical-align: middle;\n",
       "    }\n",
       "\n",
       "    .dataframe tbody tr th {\n",
       "        vertical-align: top;\n",
       "    }\n",
       "\n",
       "    .dataframe thead th {\n",
       "        text-align: right;\n",
       "    }\n",
       "</style>\n",
       "<table border=\"1\" class=\"dataframe\">\n",
       "  <thead>\n",
       "    <tr style=\"text-align: right;\">\n",
       "      <th></th>\n",
       "      <th>id</th>\n",
       "      <th>title</th>\n",
       "      <th>author</th>\n",
       "      <th>text</th>\n",
       "      <th>label</th>\n",
       "    </tr>\n",
       "  </thead>\n",
       "  <tbody>\n",
       "    <tr>\n",
       "      <th>0</th>\n",
       "      <td>0</td>\n",
       "      <td>House Dem Aide: We Didn’t Even See Comey’s Let...</td>\n",
       "      <td>Darrell Lucus</td>\n",
       "      <td>House Dem Aide: We Didn’t Even See Comey’s Let...</td>\n",
       "      <td>1</td>\n",
       "    </tr>\n",
       "    <tr>\n",
       "      <th>1</th>\n",
       "      <td>1</td>\n",
       "      <td>FLYNN: Hillary Clinton, Big Woman on Campus - ...</td>\n",
       "      <td>Daniel J. Flynn</td>\n",
       "      <td>Ever get the feeling your life circles the rou...</td>\n",
       "      <td>0</td>\n",
       "    </tr>\n",
       "    <tr>\n",
       "      <th>2</th>\n",
       "      <td>2</td>\n",
       "      <td>Why the Truth Might Get You Fired</td>\n",
       "      <td>Consortiumnews.com</td>\n",
       "      <td>Why the Truth Might Get You Fired October 29, ...</td>\n",
       "      <td>1</td>\n",
       "    </tr>\n",
       "    <tr>\n",
       "      <th>3</th>\n",
       "      <td>3</td>\n",
       "      <td>15 Civilians Killed In Single US Airstrike Hav...</td>\n",
       "      <td>Jessica Purkiss</td>\n",
       "      <td>Videos 15 Civilians Killed In Single US Airstr...</td>\n",
       "      <td>1</td>\n",
       "    </tr>\n",
       "    <tr>\n",
       "      <th>4</th>\n",
       "      <td>4</td>\n",
       "      <td>Iranian woman jailed for fictional unpublished...</td>\n",
       "      <td>Howard Portnoy</td>\n",
       "      <td>Print \\nAn Iranian woman has been sentenced to...</td>\n",
       "      <td>1</td>\n",
       "    </tr>\n",
       "  </tbody>\n",
       "</table>\n",
       "</div>"
      ],
      "text/plain": [
       "   id                                              title              author  \\\n",
       "0   0  House Dem Aide: We Didn’t Even See Comey’s Let...       Darrell Lucus   \n",
       "1   1  FLYNN: Hillary Clinton, Big Woman on Campus - ...     Daniel J. Flynn   \n",
       "2   2                  Why the Truth Might Get You Fired  Consortiumnews.com   \n",
       "3   3  15 Civilians Killed In Single US Airstrike Hav...     Jessica Purkiss   \n",
       "4   4  Iranian woman jailed for fictional unpublished...      Howard Portnoy   \n",
       "\n",
       "                                                text  label  \n",
       "0  House Dem Aide: We Didn’t Even See Comey’s Let...      1  \n",
       "1  Ever get the feeling your life circles the rou...      0  \n",
       "2  Why the Truth Might Get You Fired October 29, ...      1  \n",
       "3  Videos 15 Civilians Killed In Single US Airstr...      1  \n",
       "4  Print \\nAn Iranian woman has been sentenced to...      1  "
      ]
     },
     "execution_count": 3,
     "metadata": {},
     "output_type": "execute_result"
    }
   ],
   "source": [
    "df.head()"
   ]
  },
  {
   "cell_type": "code",
   "execution_count": 4,
   "metadata": {},
   "outputs": [
    {
     "data": {
      "text/plain": [
       "(20800, 5)"
      ]
     },
     "execution_count": 4,
     "metadata": {},
     "output_type": "execute_result"
    }
   ],
   "source": [
    "df.shape"
   ]
  },
  {
   "cell_type": "code",
   "execution_count": 5,
   "metadata": {},
   "outputs": [
    {
     "data": {
      "text/plain": [
       "(18285, 5)"
      ]
     },
     "execution_count": 5,
     "metadata": {},
     "output_type": "execute_result"
    }
   ],
   "source": [
    "df.dropna(inplace = True)\n",
    "df.shape"
   ]
  },
  {
   "cell_type": "code",
   "execution_count": 6,
   "metadata": {},
   "outputs": [
    {
     "data": {
      "text/html": [
       "<div>\n",
       "<style scoped>\n",
       "    .dataframe tbody tr th:only-of-type {\n",
       "        vertical-align: middle;\n",
       "    }\n",
       "\n",
       "    .dataframe tbody tr th {\n",
       "        vertical-align: top;\n",
       "    }\n",
       "\n",
       "    .dataframe thead th {\n",
       "        text-align: right;\n",
       "    }\n",
       "</style>\n",
       "<table border=\"1\" class=\"dataframe\">\n",
       "  <thead>\n",
       "    <tr style=\"text-align: right;\">\n",
       "      <th></th>\n",
       "      <th>id</th>\n",
       "      <th>title</th>\n",
       "      <th>author</th>\n",
       "      <th>text</th>\n",
       "      <th>label</th>\n",
       "    </tr>\n",
       "  </thead>\n",
       "  <tbody>\n",
       "    <tr>\n",
       "      <th>0</th>\n",
       "      <td>0</td>\n",
       "      <td>House Dem Aide: We Didn’t Even See Comey’s Let...</td>\n",
       "      <td>Darrell Lucus</td>\n",
       "      <td>House Dem Aide: We Didn’t Even See Comey’s Let...</td>\n",
       "      <td>1</td>\n",
       "    </tr>\n",
       "    <tr>\n",
       "      <th>1</th>\n",
       "      <td>1</td>\n",
       "      <td>FLYNN: Hillary Clinton, Big Woman on Campus - ...</td>\n",
       "      <td>Daniel J. Flynn</td>\n",
       "      <td>Ever get the feeling your life circles the rou...</td>\n",
       "      <td>0</td>\n",
       "    </tr>\n",
       "    <tr>\n",
       "      <th>2</th>\n",
       "      <td>2</td>\n",
       "      <td>Why the Truth Might Get You Fired</td>\n",
       "      <td>Consortiumnews.com</td>\n",
       "      <td>Why the Truth Might Get You Fired October 29, ...</td>\n",
       "      <td>1</td>\n",
       "    </tr>\n",
       "    <tr>\n",
       "      <th>3</th>\n",
       "      <td>3</td>\n",
       "      <td>15 Civilians Killed In Single US Airstrike Hav...</td>\n",
       "      <td>Jessica Purkiss</td>\n",
       "      <td>Videos 15 Civilians Killed In Single US Airstr...</td>\n",
       "      <td>1</td>\n",
       "    </tr>\n",
       "    <tr>\n",
       "      <th>4</th>\n",
       "      <td>4</td>\n",
       "      <td>Iranian woman jailed for fictional unpublished...</td>\n",
       "      <td>Howard Portnoy</td>\n",
       "      <td>Print \\nAn Iranian woman has been sentenced to...</td>\n",
       "      <td>1</td>\n",
       "    </tr>\n",
       "  </tbody>\n",
       "</table>\n",
       "</div>"
      ],
      "text/plain": [
       "   id                                              title              author  \\\n",
       "0   0  House Dem Aide: We Didn’t Even See Comey’s Let...       Darrell Lucus   \n",
       "1   1  FLYNN: Hillary Clinton, Big Woman on Campus - ...     Daniel J. Flynn   \n",
       "2   2                  Why the Truth Might Get You Fired  Consortiumnews.com   \n",
       "3   3  15 Civilians Killed In Single US Airstrike Hav...     Jessica Purkiss   \n",
       "4   4  Iranian woman jailed for fictional unpublished...      Howard Portnoy   \n",
       "\n",
       "                                                text  label  \n",
       "0  House Dem Aide: We Didn’t Even See Comey’s Let...      1  \n",
       "1  Ever get the feeling your life circles the rou...      0  \n",
       "2  Why the Truth Might Get You Fired October 29, ...      1  \n",
       "3  Videos 15 Civilians Killed In Single US Airstr...      1  \n",
       "4  Print \\nAn Iranian woman has been sentenced to...      1  "
      ]
     },
     "execution_count": 6,
     "metadata": {},
     "output_type": "execute_result"
    }
   ],
   "source": [
    "df.reset_index(inplace = True, drop = True)\n",
    "df.head()"
   ]
  },
  {
   "cell_type": "markdown",
   "metadata": {},
   "source": [
    "### Using Bag of Words"
   ]
  },
  {
   "cell_type": "code",
   "execution_count": 7,
   "metadata": {},
   "outputs": [],
   "source": [
    "# text preprocessing on title of each news\n",
    "ps = PorterStemmer()\n",
    "corpus = []\n",
    "for i in range(len(df)):\n",
    "    sentence = re.sub('^a-zA-Z', ' ', df['title'][i])\n",
    "    sentence = sentence.lower()\n",
    "    words = sentence.split()\n",
    "    words = [ps.stem(word) for word in words if word not in stopwords.words('english')]\n",
    "    sentence = ' '.join(words)\n",
    "    corpus.append(sentence)"
   ]
  },
  {
   "cell_type": "code",
   "execution_count": 8,
   "metadata": {},
   "outputs": [],
   "source": [
    "# creating bag of words model\n",
    "cv = CountVectorizer(max_features = 5000, ngram_range = (1, 3))\n",
    "X = cv.fit_transform(corpus).toarray()\n",
    "y = df['label']\n",
    "X_train, X_test, y_train, y_test = train_test_split(X, y, test_size = 0.33, random_state = 0)"
   ]
  },
  {
   "cell_type": "markdown",
   "metadata": {},
   "source": [
    "#### Multinomial Naive Bayes"
   ]
  },
  {
   "cell_type": "code",
   "execution_count": 9,
   "metadata": {},
   "outputs": [
    {
     "name": "stderr",
     "output_type": "stream",
     "text": [
      "C:\\Users\\shiva\\anaconda3\\lib\\site-packages\\sklearn\\naive_bayes.py:507: UserWarning: alpha too small will result in numeric errors, setting alpha = 1.0e-10\n",
      "  'setting alpha = %.1e' % _ALPHA_MIN)\n"
     ]
    },
    {
     "name": "stdout",
     "output_type": "stream",
     "text": [
      "Alpha: 0.0, Score: 0.8846727423363712\n",
      "Alpha: 0.1, Score: 0.8990886495443248\n",
      "Alpha: 0.2, Score: 0.9000828500414251\n",
      "Alpha: 0.30000000000000004, Score: 0.899917149958575\n",
      "Alpha: 0.4, Score: 0.899751449875725\n",
      "Alpha: 0.5, Score: 0.8990886495443248\n",
      "Alpha: 0.6000000000000001, Score: 0.8995857497928749\n",
      "Alpha: 0.7000000000000001, Score: 0.8992543496271748\n",
      "Alpha: 0.8, Score: 0.8995857497928749\n",
      "Alpha: 0.9, Score: 0.8994200497100249\n"
     ]
    }
   ],
   "source": [
    "classifier = MultinomialNB()\n",
    "max_score = 0\n",
    "for alpha in np.arange(0, 1, 0.1):\n",
    "    sub_classifier = MultinomialNB(alpha = alpha)\n",
    "    sub_classifier.fit(X_train, y_train)\n",
    "    y_preds = sub_classifier.predict(X_test)\n",
    "    score = accuracy_score(y_test, y_preds)\n",
    "    if max_score < score:\n",
    "        max_score = score\n",
    "        classifier = sub_classifier\n",
    "    print(f\"Alpha: {alpha}, Score: {score}\")"
   ]
  },
  {
   "cell_type": "markdown",
   "metadata": {},
   "source": [
    "#### Passive Aggressive Classifier"
   ]
  },
  {
   "cell_type": "code",
   "execution_count": 10,
   "metadata": {},
   "outputs": [
    {
     "name": "stdout",
     "output_type": "stream",
     "text": [
      "Score: 0.9193040596520299\n"
     ]
    }
   ],
   "source": [
    "linear_clf = PassiveAggressiveClassifier()\n",
    "linear_clf.fit(X_train, y_train)\n",
    "preds = linear_clf.predict(X_test)\n",
    "score = accuracy_score(y_test, preds)\n",
    "print(f\"Score: {score}\")"
   ]
  },
  {
   "cell_type": "markdown",
   "metadata": {},
   "source": [
    "#### Real & Fake Features"
   ]
  },
  {
   "cell_type": "code",
   "execution_count": 11,
   "metadata": {},
   "outputs": [],
   "source": [
    "feature_names = cv.get_feature_names()"
   ]
  },
  {
   "cell_type": "code",
   "execution_count": 12,
   "metadata": {},
   "outputs": [
    {
     "data": {
      "text/plain": [
       "[('не', -8.955919475263002),\n",
       " ('на', -8.500443946580177),\n",
       " ('zuckerberg', -9.441427291044704),\n",
       " ('zu', -9.169493575561061),\n",
       " ('zone new york', -12.214016013284484),\n",
       " ('zone new', -12.214016013284484),\n",
       " ('zone', -8.28219038056016),\n",
       " ('zionist', -8.955919475263002),\n",
       " ('zika viru', -9.816120740486113),\n",
       " ('zika', -8.630497074828375),\n",
       " ('zero', -9.169493575561061),\n",
       " ('zealand', -9.169493575561061),\n",
       " ('youtub', -8.780028808799338),\n",
       " ('youth', -8.500443946580177),\n",
       " ('yourself', -9.816120740486113),\n",
       " ('young', -7.703156506767634),\n",
       " ('you', -7.043532018246333),\n",
       " ('yorker', -9.441427291044704),\n",
       " ('york time', -8.630497074828375),\n",
       " ('york new york', -12.214016013284484)]"
      ]
     },
     "execution_count": 12,
     "metadata": {},
     "output_type": "execute_result"
    }
   ],
   "source": [
    "# most real features\n",
    "sorted(zip(feature_names, classifier.coef_[0]), reverse = True)[:20]"
   ]
  },
  {
   "cell_type": "code",
   "execution_count": 13,
   "metadata": {},
   "outputs": [
    {
     "data": {
      "text/plain": [
       "[('000', -6.793481014012198),\n",
       " ('000 email', -9.169493575561061),\n",
       " ('000 job', -12.214016013284484),\n",
       " ('00pm', -8.385374616795389),\n",
       " ('00pm water', -8.630497074828375),\n",
       " ('00pm water cooler', -8.630497074828375),\n",
       " ('01', -9.169493575561061),\n",
       " ('10', -6.506905748535608),\n",
       " ('10 000', -9.441427291044704),\n",
       " ('10 year', -10.42225654405643),\n",
       " ('100', -7.649667821816648),\n",
       " ('100 000', -9.169493575561061),\n",
       " ('100 day', -10.42225654405643),\n",
       " ('100 million', -10.42225654405643),\n",
       " ('1000', -9.169493575561061),\n",
       " ('100percentfedup', -9.169493575561061),\n",
       " ('100percentfedup com', -9.169493575561061),\n",
       " ('11', -6.910711105225408),\n",
       " ('11 16', -8.630497074828375),\n",
       " ('11 2016', -8.630497074828375)]"
      ]
     },
     "execution_count": 13,
     "metadata": {},
     "output_type": "execute_result"
    }
   ],
   "source": [
    "# most fake features\n",
    "sorted(zip(feature_names, classifier.coef_[0]))[:20]"
   ]
  },
  {
   "cell_type": "markdown",
   "metadata": {},
   "source": [
    "### Using TFIDF"
   ]
  },
  {
   "cell_type": "code",
   "execution_count": 14,
   "metadata": {},
   "outputs": [],
   "source": [
    "# text preprocessing on text of each news\n",
    "ps = PorterStemmer()\n",
    "corpus = []\n",
    "for i in range(len(df)):\n",
    "    sentence = re.sub('^a-zA-Z', ' ', df['text'][i])\n",
    "    sentence = sentence.lower()\n",
    "    words = sentence.split()\n",
    "    words = [ps.stem(word) for word in words if word not in stopwords.words('english')]\n",
    "    sentence = ' '.join(words)\n",
    "    corpus.append(sentence)"
   ]
  },
  {
   "cell_type": "code",
   "execution_count": 15,
   "metadata": {},
   "outputs": [],
   "source": [
    "# creating bag of words model\n",
    "tf = CountVectorizer(max_features = 5000, ngram_range = (1, 3))\n",
    "X = tf.fit_transform(corpus).toarray()\n",
    "y = df['label']\n",
    "X_train, X_test, y_train, y_test = train_test_split(X, y, test_size = 0.33, random_state = 0)"
   ]
  },
  {
   "cell_type": "markdown",
   "metadata": {},
   "source": [
    "#### Multinomial Naive Bayes"
   ]
  },
  {
   "cell_type": "code",
   "execution_count": 16,
   "metadata": {},
   "outputs": [
    {
     "name": "stderr",
     "output_type": "stream",
     "text": [
      "C:\\Users\\shiva\\anaconda3\\lib\\site-packages\\sklearn\\naive_bayes.py:507: UserWarning: alpha too small will result in numeric errors, setting alpha = 1.0e-10\n",
      "  'setting alpha = %.1e' % _ALPHA_MIN)\n"
     ]
    },
    {
     "name": "stdout",
     "output_type": "stream",
     "text": [
      "Alpha: 0.0, Score: 0.9106876553438277\n",
      "Alpha: 0.1, Score: 0.9090306545153273\n",
      "Alpha: 0.2, Score: 0.9088649544324772\n",
      "Alpha: 0.30000000000000004, Score: 0.9083678541839271\n",
      "Alpha: 0.4, Score: 0.9085335542667772\n",
      "Alpha: 0.5, Score: 0.908036454018227\n",
      "Alpha: 0.6000000000000001, Score: 0.908036454018227\n",
      "Alpha: 0.7000000000000001, Score: 0.908036454018227\n",
      "Alpha: 0.8, Score: 0.907870753935377\n",
      "Alpha: 0.9, Score: 0.907705053852527\n"
     ]
    }
   ],
   "source": [
    "classifier = MultinomialNB()\n",
    "max_score = 0\n",
    "for alpha in np.arange(0, 1, 0.1):\n",
    "    sub_classifier = MultinomialNB(alpha = alpha)\n",
    "    sub_classifier.fit(X_train, y_train)\n",
    "    y_preds = sub_classifier.predict(X_test)\n",
    "    score = accuracy_score(y_test, y_preds)\n",
    "    if max_score < score:\n",
    "        max_score = score\n",
    "        classifier = sub_classifier\n",
    "    print(f\"Alpha: {alpha}, Score: {score}\")"
   ]
  },
  {
   "cell_type": "markdown",
   "metadata": {},
   "source": [
    "#### Passive Aggressive Classifier"
   ]
  },
  {
   "cell_type": "code",
   "execution_count": 17,
   "metadata": {},
   "outputs": [
    {
     "name": "stdout",
     "output_type": "stream",
     "text": [
      "Score: 0.9373653686826844\n"
     ]
    }
   ],
   "source": [
    "linear_clf = PassiveAggressiveClassifier()\n",
    "linear_clf.fit(X_train, y_train)\n",
    "preds = linear_clf.predict(X_test)\n",
    "score = accuracy_score(y_test, preds)\n",
    "print(f\"Score: {score}\")"
   ]
  },
  {
   "cell_type": "markdown",
   "metadata": {},
   "source": [
    "#### Real & Fake Features"
   ]
  },
  {
   "cell_type": "code",
   "execution_count": 18,
   "metadata": {},
   "outputs": [],
   "source": [
    "feature_names = cv.get_feature_names()"
   ]
  },
  {
   "cell_type": "code",
   "execution_count": 19,
   "metadata": {},
   "outputs": [
    {
     "data": {
      "text/plain": [
       "[('не', -8.547847523524862),\n",
       " ('на', -8.056937209459923),\n",
       " ('zuckerberg', -8.935168379509491),\n",
       " ('zu', -8.223521185205836),\n",
       " ('zone new york', -8.269362544554067),\n",
       " ('zone new', -8.817846492120491),\n",
       " ('zone', -9.396084792153626),\n",
       " ('zionist', -8.353857222896579),\n",
       " ('zika viru', -9.141850653769533),\n",
       " ('zika', -8.914633777067792),\n",
       " ('zero', -8.59101969539006),\n",
       " ('zealand', -9.719484947207235),\n",
       " ('youtub', -8.712855048251352),\n",
       " ('youth', -9.332368977767558),\n",
       " ('yourself', -9.20502955539103),\n",
       " ('young', -10.102477199462916),\n",
       " ('you', -9.834997834328968),\n",
       " ('yorker', -7.905252622127882),\n",
       " ('york time', -8.999430313727832),\n",
       " ('york new york', -10.893604788381458)]"
      ]
     },
     "execution_count": 19,
     "metadata": {},
     "output_type": "execute_result"
    }
   ],
   "source": [
    "# most real features\n",
    "sorted(zip(feature_names, classifier.coef_[0]), reverse = True)[:20]"
   ]
  },
  {
   "cell_type": "code",
   "execution_count": 20,
   "metadata": {},
   "outputs": [
    {
     "data": {
      "text/plain": [
       "[('000', -9.931328943267296),\n",
       " ('000 email', -6.842331480397781),\n",
       " ('000 job', -10.089231972712913),\n",
       " ('00pm', -10.376914045164256),\n",
       " ('00pm water', -7.057954761740763),\n",
       " ('00pm water cooler', -9.624174767402993),\n",
       " ('01', -10.292830927953855),\n",
       " ('10', -10.171470070949773),\n",
       " ('10 000', -7.926211473148722),\n",
       " ('10 year', -9.79499249971531),\n",
       " ('100', -7.3475434124631045),\n",
       " ('100 000', -7.9216831635239755),\n",
       " ('100 day', -11.161868774975233),\n",
       " ('100 million', -8.556334137402178),\n",
       " ('1000', -8.471930323819652),\n",
       " ('100percentfedup', -7.7774785116331735),\n",
       " ('100percentfedup com', -9.63247357021768),\n",
       " ('11', -10.157285435957835),\n",
       " ('11 16', -8.173858547518805),\n",
       " ('11 2016', -8.326395542955199)]"
      ]
     },
     "execution_count": 20,
     "metadata": {},
     "output_type": "execute_result"
    }
   ],
   "source": [
    "# most fake features\n",
    "sorted(zip(feature_names, classifier.coef_[0]))[:20]"
   ]
  }
 ],
 "metadata": {
  "kernelspec": {
   "display_name": "Python 3",
   "language": "python",
   "name": "python3"
  },
  "language_info": {
   "codemirror_mode": {
    "name": "ipython",
    "version": 3
   },
   "file_extension": ".py",
   "mimetype": "text/x-python",
   "name": "python",
   "nbconvert_exporter": "python",
   "pygments_lexer": "ipython3",
   "version": "3.7.6"
  }
 },
 "nbformat": 4,
 "nbformat_minor": 4
}
